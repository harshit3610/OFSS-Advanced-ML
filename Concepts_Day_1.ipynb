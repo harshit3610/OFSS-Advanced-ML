{
  "nbformat": 4,
  "nbformat_minor": 0,
  "metadata": {
    "colab": {
      "name": "Concepts - Day 1.ipynb",
      "provenance": [],
      "collapsed_sections": []
    },
    "kernelspec": {
      "name": "python3",
      "display_name": "Python 3"
    },
    "language_info": {
      "name": "python"
    }
  },
  "cells": [
    {
      "cell_type": "code",
      "metadata": {
        "id": "-Fea-ua-cdm9"
      },
      "source": [
        "import pandas as pd"
      ],
      "execution_count": 3,
      "outputs": []
    },
    {
      "cell_type": "markdown",
      "metadata": {
        "id": "9JQ56DfJSVd6"
      },
      "source": [
        "#The Problem of Scale\n",
        "\n",
        "The data used for modeling usually contains features of various dimensions and \n",
        "\n",
        "1.   List item\n",
        "2.   List item\n",
        "\n",
        "scales altogether. Different scales of the data features affect the modeling of a dataset adversely.\n",
        "\n",
        "It leads to a biased outcome of predictions in terms of misclassification error and accuracy rates. Thus, it is necessary to Scale the data prior to modeling.\n",
        "\n",
        "\n",
        "This is when standardization comes into picture.\n",
        "\n",
        "Standardization is a scaling technique wherein it makes the data scale-free by converting the statistical distribution of the data into the below format:\n",
        "\n",
        "    mean –> 0 (zero)\n",
        "    standard deviation –> 1\n",
        "\n",
        "![Formula](https://www.journaldev.com/wp-content/uploads/2020/10/Standardization.png.webp)    \n",
        "\n"
      ]
    },
    {
      "cell_type": "code",
      "metadata": {
        "colab": {
          "base_uri": "https://localhost:8080/"
        },
        "id": "vpkIzTt5vbVo",
        "outputId": "c6758089-9c4b-4ecd-9ed8-d4db11d7e51e"
      },
      "source": [
        "!pip install yfinance"
      ],
      "execution_count": 14,
      "outputs": [
        {
          "output_type": "stream",
          "text": [
            "Collecting yfinance\n",
            "  Downloading https://files.pythonhosted.org/packages/5e/4e/88d31f5509edcbc51bcbb7eeae72516b17ada1bc2ad5b496e2d05d62c696/yfinance-0.1.60.tar.gz\n",
            "Requirement already satisfied: pandas>=0.24 in /usr/local/lib/python3.7/dist-packages (from yfinance) (1.1.5)\n",
            "Requirement already satisfied: numpy>=1.15 in /usr/local/lib/python3.7/dist-packages (from yfinance) (1.19.5)\n",
            "Requirement already satisfied: requests>=2.20 in /usr/local/lib/python3.7/dist-packages (from yfinance) (2.23.0)\n",
            "Requirement already satisfied: multitasking>=0.0.7 in /usr/local/lib/python3.7/dist-packages (from yfinance) (0.0.9)\n",
            "Collecting lxml>=4.5.1\n",
            "\u001b[?25l  Downloading https://files.pythonhosted.org/packages/30/c0/d0526314971fc661b083ab135747dc68446a3022686da8c16d25fcf6ef07/lxml-4.6.3-cp37-cp37m-manylinux2014_x86_64.whl (6.3MB)\n",
            "\u001b[K     |████████████████████████████████| 6.3MB 21.6MB/s \n",
            "\u001b[?25hRequirement already satisfied: pytz>=2017.2 in /usr/local/lib/python3.7/dist-packages (from pandas>=0.24->yfinance) (2018.9)\n",
            "Requirement already satisfied: python-dateutil>=2.7.3 in /usr/local/lib/python3.7/dist-packages (from pandas>=0.24->yfinance) (2.8.1)\n",
            "Requirement already satisfied: chardet<4,>=3.0.2 in /usr/local/lib/python3.7/dist-packages (from requests>=2.20->yfinance) (3.0.4)\n",
            "Requirement already satisfied: certifi>=2017.4.17 in /usr/local/lib/python3.7/dist-packages (from requests>=2.20->yfinance) (2021.5.30)\n",
            "Requirement already satisfied: idna<3,>=2.5 in /usr/local/lib/python3.7/dist-packages (from requests>=2.20->yfinance) (2.10)\n",
            "Requirement already satisfied: urllib3!=1.25.0,!=1.25.1,<1.26,>=1.21.1 in /usr/local/lib/python3.7/dist-packages (from requests>=2.20->yfinance) (1.24.3)\n",
            "Requirement already satisfied: six>=1.5 in /usr/local/lib/python3.7/dist-packages (from python-dateutil>=2.7.3->pandas>=0.24->yfinance) (1.15.0)\n",
            "Building wheels for collected packages: yfinance\n",
            "  Building wheel for yfinance (setup.py) ... \u001b[?25l\u001b[?25hdone\n",
            "  Created wheel for yfinance: filename=yfinance-0.1.60-py2.py3-none-any.whl size=23819 sha256=fc3082f06ec08efef6f2331d10ad2c737577f8299d35e62165d96475aa6497a2\n",
            "  Stored in directory: /root/.cache/pip/wheels/f0/be/a4/846f02c5985562250917b0ab7b33fff737c8e6e8cd5209aa3b\n",
            "Successfully built yfinance\n",
            "Installing collected packages: lxml, yfinance\n",
            "  Found existing installation: lxml 4.2.6\n",
            "    Uninstalling lxml-4.2.6:\n",
            "      Successfully uninstalled lxml-4.2.6\n",
            "Successfully installed lxml-4.6.3 yfinance-0.1.60\n"
          ],
          "name": "stdout"
        }
      ]
    },
    {
      "cell_type": "code",
      "metadata": {
        "colab": {
          "base_uri": "https://localhost:8080/",
          "height": 455
        },
        "id": "VbNjks7Aveiv",
        "outputId": "fe64cd85-b422-47df-e7ba-b7f42616c004"
      },
      "source": [
        "import yfinance as yf\n",
        "\n",
        "# berkshire hathaway inc. (b stock)\n",
        "brk = yf.Ticker('GOGL')\n",
        "\n",
        "hist = brk.history(period=\"5Y\", auto_adjust=True)\n",
        "\n",
        "hist[['Volume','Open']]"
      ],
      "execution_count": 22,
      "outputs": [
        {
          "output_type": "execute_result",
          "data": {
            "text/html": [
              "<div>\n",
              "<style scoped>\n",
              "    .dataframe tbody tr th:only-of-type {\n",
              "        vertical-align: middle;\n",
              "    }\n",
              "\n",
              "    .dataframe tbody tr th {\n",
              "        vertical-align: top;\n",
              "    }\n",
              "\n",
              "    .dataframe thead th {\n",
              "        text-align: right;\n",
              "    }\n",
              "</style>\n",
              "<table border=\"1\" class=\"dataframe\">\n",
              "  <thead>\n",
              "    <tr style=\"text-align: right;\">\n",
              "      <th></th>\n",
              "      <th>Volume</th>\n",
              "      <th>Open</th>\n",
              "    </tr>\n",
              "    <tr>\n",
              "      <th>Date</th>\n",
              "      <th></th>\n",
              "      <th></th>\n",
              "    </tr>\n",
              "  </thead>\n",
              "  <tbody>\n",
              "    <tr>\n",
              "      <th>2016-07-05</th>\n",
              "      <td>25980</td>\n",
              "      <td>2.975678</td>\n",
              "    </tr>\n",
              "    <tr>\n",
              "      <th>2016-07-06</th>\n",
              "      <td>51120</td>\n",
              "      <td>2.889426</td>\n",
              "    </tr>\n",
              "    <tr>\n",
              "      <th>2016-07-07</th>\n",
              "      <td>14420</td>\n",
              "      <td>2.846301</td>\n",
              "    </tr>\n",
              "    <tr>\n",
              "      <th>2016-07-08</th>\n",
              "      <td>18740</td>\n",
              "      <td>2.803175</td>\n",
              "    </tr>\n",
              "    <tr>\n",
              "      <th>2016-07-11</th>\n",
              "      <td>30740</td>\n",
              "      <td>2.889426</td>\n",
              "    </tr>\n",
              "    <tr>\n",
              "      <th>...</th>\n",
              "      <td>...</td>\n",
              "      <td>...</td>\n",
              "    </tr>\n",
              "    <tr>\n",
              "      <th>2021-06-28</th>\n",
              "      <td>1229400</td>\n",
              "      <td>11.150000</td>\n",
              "    </tr>\n",
              "    <tr>\n",
              "      <th>2021-06-29</th>\n",
              "      <td>560600</td>\n",
              "      <td>10.870000</td>\n",
              "    </tr>\n",
              "    <tr>\n",
              "      <th>2021-06-30</th>\n",
              "      <td>1499600</td>\n",
              "      <td>10.940000</td>\n",
              "    </tr>\n",
              "    <tr>\n",
              "      <th>2021-07-01</th>\n",
              "      <td>958500</td>\n",
              "      <td>10.930000</td>\n",
              "    </tr>\n",
              "    <tr>\n",
              "      <th>2021-07-02</th>\n",
              "      <td>868700</td>\n",
              "      <td>10.600000</td>\n",
              "    </tr>\n",
              "  </tbody>\n",
              "</table>\n",
              "<p>1259 rows × 2 columns</p>\n",
              "</div>"
            ],
            "text/plain": [
              "             Volume       Open\n",
              "Date                          \n",
              "2016-07-05    25980   2.975678\n",
              "2016-07-06    51120   2.889426\n",
              "2016-07-07    14420   2.846301\n",
              "2016-07-08    18740   2.803175\n",
              "2016-07-11    30740   2.889426\n",
              "...             ...        ...\n",
              "2021-06-28  1229400  11.150000\n",
              "2021-06-29   560600  10.870000\n",
              "2021-06-30  1499600  10.940000\n",
              "2021-07-01   958500  10.930000\n",
              "2021-07-02   868700  10.600000\n",
              "\n",
              "[1259 rows x 2 columns]"
            ]
          },
          "metadata": {
            "tags": []
          },
          "execution_count": 22
        }
      ]
    },
    {
      "cell_type": "code",
      "metadata": {
        "colab": {
          "base_uri": "https://localhost:8080/",
          "height": 513
        },
        "id": "0NP1FT0D1DAT",
        "outputId": "ed35256a-be61-4fbe-8698-f627f80321aa"
      },
      "source": [
        "import seaborn as sns\n",
        "import matplotlib.pyplot as plt\n",
        "fig,axes = plt.subplots(1,2,figsize=(10,7))\n",
        "sns.boxplot(y='Volume',data=hist,ax=axes[0])\n",
        "sns.boxplot(y='Open',data=hist,ax=axes[1])\n",
        "plt.tight_layout()\n",
        "plt.show()"
      ],
      "execution_count": 31,
      "outputs": [
        {
          "output_type": "display_data",
          "data": {
            "image/png": "[encoded data removed]",
            "text/plain": [
              "<Figure size 720x504 with 2 Axes>"
            ]
          },
          "metadata": {
            "tags": [],
            "needs_background": "light"
          }
        }
      ]
    },
    {
      "cell_type": "code",
      "metadata": {
        "colab": {
          "base_uri": "https://localhost:8080/",
          "height": 424
        },
        "id": "w8G5176-45TJ",
        "outputId": "c5c1937f-81a8-4e0f-9b3d-505e0479e930"
      },
      "source": [
        "from sklearn.preprocessing import StandardScaler\n",
        "\n",
        "X=hist[['Volume','Open']]\n",
        "\n",
        "scaler = StandardScaler()\n",
        "standard_df = scaler.fit_transform(X)\n",
        "standard_df = pd.DataFrame(standard_df, columns =['Open', 'Volume'])\n",
        "standard_df"
      ],
      "execution_count": 26,
      "outputs": [
        {
          "output_type": "execute_result",
          "data": {
            "text/html": [
              "<div>\n",
              "<style scoped>\n",
              "    .dataframe tbody tr th:only-of-type {\n",
              "        vertical-align: middle;\n",
              "    }\n",
              "\n",
              "    .dataframe tbody tr th {\n",
              "        vertical-align: top;\n",
              "    }\n",
              "\n",
              "    .dataframe thead th {\n",
              "        text-align: right;\n",
              "    }\n",
              "</style>\n",
              "<table border=\"1\" class=\"dataframe\">\n",
              "  <thead>\n",
              "    <tr style=\"text-align: right;\">\n",
              "      <th></th>\n",
              "      <th>Open</th>\n",
              "      <th>Volume</th>\n",
              "    </tr>\n",
              "  </thead>\n",
              "  <tbody>\n",
              "    <tr>\n",
              "      <th>0</th>\n",
              "      <td>-0.932639</td>\n",
              "      <td>-1.493713</td>\n",
              "    </tr>\n",
              "    <tr>\n",
              "      <th>1</th>\n",
              "      <td>-0.852942</td>\n",
              "      <td>-1.542068</td>\n",
              "    </tr>\n",
              "    <tr>\n",
              "      <th>2</th>\n",
              "      <td>-0.969285</td>\n",
              "      <td>-1.566246</td>\n",
              "    </tr>\n",
              "    <tr>\n",
              "      <th>3</th>\n",
              "      <td>-0.955590</td>\n",
              "      <td>-1.590424</td>\n",
              "    </tr>\n",
              "    <tr>\n",
              "      <th>4</th>\n",
              "      <td>-0.917549</td>\n",
              "      <td>-1.542069</td>\n",
              "    </tr>\n",
              "    <tr>\n",
              "      <th>...</th>\n",
              "      <td>...</td>\n",
              "      <td>...</td>\n",
              "    </tr>\n",
              "    <tr>\n",
              "      <th>1254</th>\n",
              "      <td>2.882350</td>\n",
              "      <td>3.089066</td>\n",
              "    </tr>\n",
              "    <tr>\n",
              "      <th>1255</th>\n",
              "      <td>0.762172</td>\n",
              "      <td>2.932090</td>\n",
              "    </tr>\n",
              "    <tr>\n",
              "      <th>1256</th>\n",
              "      <td>3.738917</td>\n",
              "      <td>2.971334</td>\n",
              "    </tr>\n",
              "    <tr>\n",
              "      <th>1257</th>\n",
              "      <td>2.023564</td>\n",
              "      <td>2.965728</td>\n",
              "    </tr>\n",
              "    <tr>\n",
              "      <th>1258</th>\n",
              "      <td>1.738887</td>\n",
              "      <td>2.780719</td>\n",
              "    </tr>\n",
              "  </tbody>\n",
              "</table>\n",
              "<p>1259 rows × 2 columns</p>\n",
              "</div>"
            ],
            "text/plain": [
              "          Open    Volume\n",
              "0    -0.932639 -1.493713\n",
              "1    -0.852942 -1.542068\n",
              "2    -0.969285 -1.566246\n",
              "3    -0.955590 -1.590424\n",
              "4    -0.917549 -1.542069\n",
              "...        ...       ...\n",
              "1254  2.882350  3.089066\n",
              "1255  0.762172  2.932090\n",
              "1256  3.738917  2.971334\n",
              "1257  2.023564  2.965728\n",
              "1258  1.738887  2.780719\n",
              "\n",
              "[1259 rows x 2 columns]"
            ]
          },
          "metadata": {
            "tags": []
          },
          "execution_count": 26
        }
      ]
    },
    {
      "cell_type": "code",
      "metadata": {
        "colab": {
          "base_uri": "https://localhost:8080/",
          "height": 513
        },
        "id": "OGXhM18W52F8",
        "outputId": "1153dc47-fd96-4445-f5c3-e1824f834b66"
      },
      "source": [
        "fig,axes = plt.subplots(1,2,figsize=(10,7))\n",
        "sns.boxplot(y='Volume',data=standard_df,ax=axes[0])\n",
        "sns.boxplot(y='Open',data=standard_df,ax=axes[1])\n",
        "plt.tight_layout()\n",
        "plt.show()"
      ],
      "execution_count": 32,
      "outputs": [
        {
          "output_type": "display_data",
          "data": {
            "image/png": "[encoded data removed]",
            "text/plain": [
              "<Figure size 720x504 with 2 Axes>"
            ]
          },
          "metadata": {
            "tags": [],
            "needs_background": "light"
          }
        }
      ]
    },
    {
      "cell_type": "code",
      "metadata": {
        "id": "Xn-smZlJ6acD"
      },
      "source": [
        ""
      ],
      "execution_count": null,
      "outputs": []
    },
    {
      "cell_type": "markdown",
      "metadata": {
        "id": "iZH_mzZi6bym"
      },
      "source": [
        "# Precision & Recall\n",
        "Metrics for imbalanced classification"
      ]
    },
    {
      "cell_type": "code",
      "metadata": {
        "colab": {
          "base_uri": "https://localhost:8080/",
          "height": 426
        },
        "id": "ityHljCYcWoR",
        "outputId": "11a600a4-7968-4f69-9e08-5a5d600562af"
      },
      "source": [
        "data = {\n",
        "    \n",
        "    'Actual': [\"Credit\",\"Debit\",\"Credit\",\"Credit\",\"Debit\",\"Debit\",\"Debit\",\"Credit\",\"Credit\",\"Credit\",\"Debit\",\"Debit\"],\n",
        "    'Predicted':[\"Debit\",\"Debit\",\"Credit\",\"Debit\",\"Debit\",\"Debit\",\"Credit\",\"Credit\",\"Debit\",\"Credit\",\"Credit\",\"Debit\"]\n",
        "    \n",
        "}\n",
        "\n",
        "df = pd.DataFrame(data)\n",
        "df"
      ],
      "execution_count": 8,
      "outputs": [
        {
          "output_type": "execute_result",
          "data": {
            "text/html": [
              "<div>\n",
              "<style scoped>\n",
              "    .dataframe tbody tr th:only-of-type {\n",
              "        vertical-align: middle;\n",
              "    }\n",
              "\n",
              "    .dataframe tbody tr th {\n",
              "        vertical-align: top;\n",
              "    }\n",
              "\n",
              "    .dataframe thead th {\n",
              "        text-align: right;\n",
              "    }\n",
              "</style>\n",
              "<table border=\"1\" class=\"dataframe\">\n",
              "  <thead>\n",
              "    <tr style=\"text-align: right;\">\n",
              "      <th></th>\n",
              "      <th>Actual</th>\n",
              "      <th>Predicted</th>\n",
              "    </tr>\n",
              "  </thead>\n",
              "  <tbody>\n",
              "    <tr>\n",
              "      <th>0</th>\n",
              "      <td>Credit</td>\n",
              "      <td>Debit</td>\n",
              "    </tr>\n",
              "    <tr>\n",
              "      <th>1</th>\n",
              "      <td>Debit</td>\n",
              "      <td>Debit</td>\n",
              "    </tr>\n",
              "    <tr>\n",
              "      <th>2</th>\n",
              "      <td>Credit</td>\n",
              "      <td>Credit</td>\n",
              "    </tr>\n",
              "    <tr>\n",
              "      <th>3</th>\n",
              "      <td>Credit</td>\n",
              "      <td>Debit</td>\n",
              "    </tr>\n",
              "    <tr>\n",
              "      <th>4</th>\n",
              "      <td>Debit</td>\n",
              "      <td>Debit</td>\n",
              "    </tr>\n",
              "    <tr>\n",
              "      <th>5</th>\n",
              "      <td>Debit</td>\n",
              "      <td>Debit</td>\n",
              "    </tr>\n",
              "    <tr>\n",
              "      <th>6</th>\n",
              "      <td>Debit</td>\n",
              "      <td>Credit</td>\n",
              "    </tr>\n",
              "    <tr>\n",
              "      <th>7</th>\n",
              "      <td>Credit</td>\n",
              "      <td>Credit</td>\n",
              "    </tr>\n",
              "    <tr>\n",
              "      <th>8</th>\n",
              "      <td>Credit</td>\n",
              "      <td>Debit</td>\n",
              "    </tr>\n",
              "    <tr>\n",
              "      <th>9</th>\n",
              "      <td>Credit</td>\n",
              "      <td>Credit</td>\n",
              "    </tr>\n",
              "    <tr>\n",
              "      <th>10</th>\n",
              "      <td>Debit</td>\n",
              "      <td>Credit</td>\n",
              "    </tr>\n",
              "    <tr>\n",
              "      <th>11</th>\n",
              "      <td>Debit</td>\n",
              "      <td>Debit</td>\n",
              "    </tr>\n",
              "  </tbody>\n",
              "</table>\n",
              "</div>"
            ],
            "text/plain": [
              "    Actual Predicted\n",
              "0   Credit     Debit\n",
              "1    Debit     Debit\n",
              "2   Credit    Credit\n",
              "3   Credit     Debit\n",
              "4    Debit     Debit\n",
              "5    Debit     Debit\n",
              "6    Debit    Credit\n",
              "7   Credit    Credit\n",
              "8   Credit     Debit\n",
              "9   Credit    Credit\n",
              "10   Debit    Credit\n",
              "11   Debit     Debit"
            ]
          },
          "metadata": {
            "tags": []
          },
          "execution_count": 8
        }
      ]
    },
    {
      "cell_type": "code",
      "metadata": {
        "colab": {
          "base_uri": "https://localhost:8080/",
          "height": 426
        },
        "id": "nJTIRLW6cnzP",
        "outputId": "72ae0b63-c682-4211-b9fd-607270cdbffc"
      },
      "source": [
        "values_df = df.replace({'Credit':0,'Debit':1})\n",
        "values_df"
      ],
      "execution_count": 9,
      "outputs": [
        {
          "output_type": "execute_result",
          "data": {
            "text/html": [
              "<div>\n",
              "<style scoped>\n",
              "    .dataframe tbody tr th:only-of-type {\n",
              "        vertical-align: middle;\n",
              "    }\n",
              "\n",
              "    .dataframe tbody tr th {\n",
              "        vertical-align: top;\n",
              "    }\n",
              "\n",
              "    .dataframe thead th {\n",
              "        text-align: right;\n",
              "    }\n",
              "</style>\n",
              "<table border=\"1\" class=\"dataframe\">\n",
              "  <thead>\n",
              "    <tr style=\"text-align: right;\">\n",
              "      <th></th>\n",
              "      <th>Actual</th>\n",
              "      <th>Predicted</th>\n",
              "    </tr>\n",
              "  </thead>\n",
              "  <tbody>\n",
              "    <tr>\n",
              "      <th>0</th>\n",
              "      <td>0</td>\n",
              "      <td>1</td>\n",
              "    </tr>\n",
              "    <tr>\n",
              "      <th>1</th>\n",
              "      <td>1</td>\n",
              "      <td>1</td>\n",
              "    </tr>\n",
              "    <tr>\n",
              "      <th>2</th>\n",
              "      <td>0</td>\n",
              "      <td>0</td>\n",
              "    </tr>\n",
              "    <tr>\n",
              "      <th>3</th>\n",
              "      <td>0</td>\n",
              "      <td>1</td>\n",
              "    </tr>\n",
              "    <tr>\n",
              "      <th>4</th>\n",
              "      <td>1</td>\n",
              "      <td>1</td>\n",
              "    </tr>\n",
              "    <tr>\n",
              "      <th>5</th>\n",
              "      <td>1</td>\n",
              "      <td>1</td>\n",
              "    </tr>\n",
              "    <tr>\n",
              "      <th>6</th>\n",
              "      <td>1</td>\n",
              "      <td>0</td>\n",
              "    </tr>\n",
              "    <tr>\n",
              "      <th>7</th>\n",
              "      <td>0</td>\n",
              "      <td>0</td>\n",
              "    </tr>\n",
              "    <tr>\n",
              "      <th>8</th>\n",
              "      <td>0</td>\n",
              "      <td>1</td>\n",
              "    </tr>\n",
              "    <tr>\n",
              "      <th>9</th>\n",
              "      <td>0</td>\n",
              "      <td>0</td>\n",
              "    </tr>\n",
              "    <tr>\n",
              "      <th>10</th>\n",
              "      <td>1</td>\n",
              "      <td>0</td>\n",
              "    </tr>\n",
              "    <tr>\n",
              "      <th>11</th>\n",
              "      <td>1</td>\n",
              "      <td>1</td>\n",
              "    </tr>\n",
              "  </tbody>\n",
              "</table>\n",
              "</div>"
            ],
            "text/plain": [
              "    Actual  Predicted\n",
              "0        0          1\n",
              "1        1          1\n",
              "2        0          0\n",
              "3        0          1\n",
              "4        1          1\n",
              "5        1          1\n",
              "6        1          0\n",
              "7        0          0\n",
              "8        0          1\n",
              "9        0          0\n",
              "10       1          0\n",
              "11       1          1"
            ]
          },
          "metadata": {
            "tags": []
          },
          "execution_count": 9
        }
      ]
    },
    {
      "cell_type": "markdown",
      "metadata": {
        "id": "kMjjAGRLc2XE"
      },
      "source": [
        "# Precision\n",
        "\n",
        "Precision attempts to answer the following question:\n",
        "\n",
        "  #### What proportion of positive identifications was actually correct?\n",
        "\n",
        "Precision is defined as follows:\n",
        "![](https://miro.medium.com/max/1104/1*5PvyyMvH5n42XICQrlXOzw.png)"
      ]
    },
    {
      "cell_type": "markdown",
      "metadata": {
        "id": "c4wcFqB_dZjJ"
      },
      "source": [
        "# Recall\n",
        "\n",
        "Recall attempts to answer the following question:\n",
        "\n",
        " ### What proportion of actual positives was identified correctly?\n",
        "\n",
        "Mathematically, recall is defined as follows:\n",
        "![](https://miro.medium.com/max/1044/1*I0Yd-o2yQsHBRKFbf0rjpQ.png)\n"
      ]
    },
    {
      "cell_type": "code",
      "metadata": {
        "colab": {
          "base_uri": "https://localhost:8080/"
        },
        "id": "ZAQ8XM2jcqRZ",
        "outputId": "c3574e71-ab5e-4248-c143-5e09c6991674"
      },
      "source": [
        "from sklearn.metrics import precision_score,recall_score\n",
        "\n",
        "print(   precision_score(values_df['Predicted'],values_df['Actual'] )  )"
      ],
      "execution_count": 10,
      "outputs": [
        {
          "output_type": "stream",
          "text": [
            "0.6666666666666666\n"
          ],
          "name": "stdout"
        }
      ]
    },
    {
      "cell_type": "code",
      "metadata": {
        "colab": {
          "base_uri": "https://localhost:8080/"
        },
        "id": "eXkyK0hXe106",
        "outputId": "5c571964-f31e-4767-c846-6c6c5bda7fcf"
      },
      "source": [
        "print(   recall_score(values_df['Predicted'],values_df['Actual'] )  )"
      ],
      "execution_count": 12,
      "outputs": [
        {
          "output_type": "stream",
          "text": [
            "0.5714285714285714\n"
          ],
          "name": "stdout"
        }
      ]
    }
  ]
}